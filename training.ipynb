{
 "cells": [
  {
   "cell_type": "code",
   "execution_count": 1,
   "id": "6f565d4e-8d14-4269-869e-6ea7414f9ff5",
   "metadata": {},
   "outputs": [],
   "source": [
    "# import libraries and magics\n",
    "import numpy as np\n",
    "import matplotlib.pyplot as plt\n",
    "import pandas as pd\n",
    "from PIL import Image\n",
    "import cv2\n",
    "\n",
    "from sklearn.model_selection import train_test_split\n",
    "from sklearn.preprocessing import MinMaxScaler\n",
    "from sklearn.metrics import accuracy_score, classification_report, confusion_matrix\n",
    "\n",
    "import tensorflow as tf\n",
    "from tensorflow import keras"
   ]
  },
  {
   "cell_type": "markdown",
   "id": "bd015d4d-baea-4eed-93ca-1bed4c5d7966",
   "metadata": {},
   "source": [
    "## Problem 1"
   ]
  },
  {
   "cell_type": "code",
   "execution_count": 2,
   "id": "9396457b-6bfb-40bc-883a-319e081a5f05",
   "metadata": {},
   "outputs": [
    {
     "name": "stdout",
     "output_type": "stream",
     "text": [
      "(1658, 270000) (1658,)\n",
      "(1326, 270000) (1326,)\n",
      "(332, 270000) (332,)\n"
     ]
    }
   ],
   "source": [
    "# Loading Training Data\n",
    "X_train_full = np.load('flower_species_classification/data_train.npy').T\n",
    "t_train_full = np.load('flower_species_classification/labels_train.npy')\n",
    "\n",
    "class_names = ['Roses', 'Magnolias', 'Lilies', 'Sunflowers', 'Orchids', \n",
    "               'Marigold', 'Hibiscus', 'Firebush', 'Pentas', 'Bougainvillea']\n",
    "\n",
    "# X_val, X_train = X_train_full[:300]/255.0, X_train_full[300:]/255.0 \n",
    "# t_val, t_train = t_train_full[:300], t_train_full[300:]\n",
    "\n",
    "X_train, X_val, t_train, t_val = train_test_split(X_train_full, t_train_full,\n",
    "                                                  test_size=0.2,\n",
    "                                                  stratify=t_train_full,\n",
    "                                                  shuffle=True,\n",
    "                                                  random_state=42)\n",
    "\n",
    "print(X_train_full.shape, t_train_full.shape)\n",
    "print(X_train.shape, t_train.shape)\n",
    "print(X_val.shape, t_val.shape)"
   ]
  },
  {
   "cell_type": "code",
   "execution_count": 3,
   "id": "9ce3b762-1376-41f4-a2d8-c4ab595f6f59",
   "metadata": {},
   "outputs": [],
   "source": [
    "# Scale the training data\n",
    "X_train_scaled = X_train / 255.0\n",
    "X_val_scaled = X_val /255.0"
   ]
  },
  {
   "cell_type": "code",
   "execution_count": 5,
   "id": "1cc6ee5d-49c9-49b4-a924-59b29e8a0e3e",
   "metadata": {},
   "outputs": [
    {
     "data": {
      "text/plain": [
       "(TensorShape([1326, 300, 300, 3]), TensorShape([332, 300, 300, 3]))"
      ]
     },
     "execution_count": 5,
     "metadata": {},
     "output_type": "execute_result"
    }
   ],
   "source": [
    "X_train_rs = tf.constant(X_train_scaled.reshape((X_train_scaled.shape[0],300,300,3)),\n",
    "                         dtype=tf.float16)\n",
    "X_val_rs = tf.constant(X_val_scaled.reshape((X_val_scaled.shape[0], 300,300,3)), \n",
    "                       dtype=tf.float16)\n",
    "\n",
    "X_train_rs.shape, X_val_rs.shape"
   ]
  },
  {
   "cell_type": "code",
   "execution_count": 6,
   "id": "4e2a2181-e80a-4bab-b360-b8b325a833e2",
   "metadata": {},
   "outputs": [],
   "source": [
    "# Define function for evaluating performance\n",
    "def Evaluate_performance(model, history, Name, X_train=X_train_rs, t_train=t_train, X_val=X_val_rs, t_val=t_val, display=True):\n",
    "    \n",
    "    y_train = np.argmax(model.predict(X_train),axis=1)\n",
    "    y_val = np.argmax(model.predict(X_val),axis=1)\n",
    "    \n",
    "    # Accuracy\n",
    "    train_acc = accuracy_score(y_train, t_train)\n",
    "    val_acc = accuracy_score(y_val, t_val)\n",
    "    \n",
    "    # Print performance\n",
    "    print('Performance of {}:\\n'.format(Name))\n",
    "    print('1. In training set: ')\n",
    "    print(classification_report(t_train, y_train))\n",
    "    print('Accuracy: {}'.format(train_acc))\n",
    "    print('Confusion Matrix')\n",
    "    print(confusion_matrix(t_train, y_train))\n",
    "        \n",
    "    print('\\n ===================================================== \\n')\n",
    "    \n",
    "    print('2. In validation set: ')\n",
    "    print(classification_report(t_val, y_val))\n",
    "    print('Accuracy: {}'.format(val_acc))\n",
    "    print('Confusion Matrix')\n",
    "    print(confusion_matrix(t_val, y_val))\n",
    "    \n",
    "    # Display learning curve\n",
    "    if display==True:\n",
    "        key_names = list(history.history.keys())\n",
    "        colors = ['-r','--b','-og','-.k']\n",
    "\n",
    "        plt.figure(figsize=(8,5))\n",
    "        for i in [0,2]:\n",
    "            plt.plot(history.history[key_names[i]], colors[i], label=key_names[i])\n",
    "        plt.legend(fontsize=15,ncol=2)\n",
    "        plt.title('Learning Curves with loss', size=15);\n",
    "        \n",
    "        plt.figure(figsize=(8,5))\n",
    "        for i in [1,3]:\n",
    "            plt.plot(history.history[key_names[i]], colors[i], label=key_names[i])\n",
    "        plt.legend(fontsize=15,ncol=2)\n",
    "        plt.title('Learning Curves with accuracy', size=15);"
   ]
  },
  {
   "cell_type": "code",
   "execution_count": 7,
   "id": "7a27529a-86c8-4108-a716-8c8039302db3",
   "metadata": {},
   "outputs": [],
   "source": [
    "# Model 1: Only use ANN\n",
    "model_prob1_1 = keras.models.Sequential([\n",
    "    keras.layers.Flatten(input_shape=[300,300,3]),\n",
    "    keras.layers.Dense(300, kernel_initializer='he_normal'),\n",
    "    keras.layers.LeakyReLU(alpha=0.2),\n",
    "    keras.layers.Dense(100, kernel_initializer='he_normal'),\n",
    "    keras.layers.LeakyReLU(alpha=0.2),\n",
    "    keras.layers.Dense(10, activation='softmax')\n",
    "    ])"
   ]
  },
  {
   "cell_type": "code",
   "execution_count": 8,
   "id": "3013a7ba-3a7b-4a83-867e-fa1f503fb375",
   "metadata": {},
   "outputs": [
    {
     "name": "stdout",
     "output_type": "stream",
     "text": [
      "Model: \"sequential\"\n",
      "_________________________________________________________________\n",
      " Layer (type)                Output Shape              Param #   \n",
      "=================================================================\n",
      " flatten (Flatten)           (None, 270000)            0         \n",
      "                                                                 \n",
      " dense (Dense)               (None, 300)               81000300  \n",
      "                                                                 \n",
      " leaky_re_lu (LeakyReLU)     (None, 300)               0         \n",
      "                                                                 \n",
      " dense_1 (Dense)             (None, 100)               30100     \n",
      "                                                                 \n",
      " leaky_re_lu_1 (LeakyReLU)   (None, 100)               0         \n",
      "                                                                 \n",
      " dense_2 (Dense)             (None, 10)                1010      \n",
      "                                                                 \n",
      "=================================================================\n",
      "Total params: 81,031,410\n",
      "Trainable params: 81,031,410\n",
      "Non-trainable params: 0\n",
      "_________________________________________________________________\n"
     ]
    }
   ],
   "source": [
    "model_prob1_1.summary()"
   ]
  },
  {
   "cell_type": "code",
   "execution_count": 9,
   "id": "6dbf338a-5b2d-4bca-93f4-a0c782554b20",
   "metadata": {},
   "outputs": [],
   "source": [
    "model_prob1_1.compile(optimizer=keras.optimizers.Nadam(),\n",
    "                    loss=keras.losses.SparseCategoricalCrossentropy(),\n",
    "                    metrics=['accuracy'])"
   ]
  },
  {
   "cell_type": "code",
   "execution_count": 11,
   "id": "d5a0cc78-d4fe-4af1-95bc-c497bb61a00b",
   "metadata": {
    "tags": []
   },
   "outputs": [
    {
     "name": "stdout",
     "output_type": "stream",
     "text": [
      "Epoch 1/100\n",
      "42/42 [==============================] - 2s 49ms/step - loss: 20.6611 - accuracy: 0.2722 - val_loss: 13.3653 - val_accuracy: 0.2289\n",
      "Epoch 2/100\n",
      "42/42 [==============================] - 2s 49ms/step - loss: 22.1139 - accuracy: 0.2896 - val_loss: 9.1887 - val_accuracy: 0.3916\n",
      "Epoch 3/100\n",
      "42/42 [==============================] - 1s 17ms/step - loss: 5.6325 - accuracy: 0.4744 - val_loss: 10.3024 - val_accuracy: 0.2108\n",
      "Epoch 4/100\n",
      "42/42 [==============================] - 1s 18ms/step - loss: 5.7164 - accuracy: 0.4698 - val_loss: 13.6342 - val_accuracy: 0.2952\n",
      "Epoch 5/100\n",
      "42/42 [==============================] - 1s 17ms/step - loss: 32.5836 - accuracy: 0.2602 - val_loss: 18.2549 - val_accuracy: 0.3494\n",
      "Epoch 6/100\n",
      "42/42 [==============================] - 2s 51ms/step - loss: 7.5491 - accuracy: 0.5030 - val_loss: 8.3327 - val_accuracy: 0.3193\n",
      "Epoch 7/100\n",
      "42/42 [==============================] - 2s 51ms/step - loss: 3.8687 - accuracy: 0.5686 - val_loss: 4.6841 - val_accuracy: 0.3735\n",
      "Epoch 8/100\n",
      "42/42 [==============================] - 1s 18ms/step - loss: 3.0509 - accuracy: 0.6192 - val_loss: 6.4630 - val_accuracy: 0.4036\n",
      "Epoch 9/100\n",
      "42/42 [==============================] - 1s 17ms/step - loss: 2.2315 - accuracy: 0.6425 - val_loss: 6.1322 - val_accuracy: 0.3735\n",
      "Epoch 10/100\n",
      "42/42 [==============================] - 1s 18ms/step - loss: 1.8034 - accuracy: 0.6704 - val_loss: 6.4553 - val_accuracy: 0.3012\n",
      "Epoch 11/100\n",
      "42/42 [==============================] - 1s 17ms/step - loss: 1.3972 - accuracy: 0.7511 - val_loss: 5.8732 - val_accuracy: 0.3223\n",
      "Epoch 12/100\n",
      "42/42 [==============================] - 1s 17ms/step - loss: 1.4681 - accuracy: 0.7323 - val_loss: 5.8218 - val_accuracy: 0.3524\n",
      "Epoch 13/100\n",
      "42/42 [==============================] - 2s 49ms/step - loss: 0.9119 - accuracy: 0.8047 - val_loss: 2.7044 - val_accuracy: 0.5120\n",
      "Epoch 14/100\n",
      "42/42 [==============================] - 1s 17ms/step - loss: 0.2885 - accuracy: 0.9140 - val_loss: 4.0227 - val_accuracy: 0.4157\n",
      "Epoch 15/100\n",
      "42/42 [==============================] - 2s 52ms/step - loss: 0.6597 - accuracy: 0.8575 - val_loss: 2.5413 - val_accuracy: 0.5211\n",
      "Epoch 16/100\n",
      "42/42 [==============================] - 1s 17ms/step - loss: 0.1630 - accuracy: 0.9502 - val_loss: 3.1840 - val_accuracy: 0.4217\n",
      "Epoch 17/100\n",
      "42/42 [==============================] - 1s 17ms/step - loss: 0.2323 - accuracy: 0.9314 - val_loss: 2.6710 - val_accuracy: 0.5000\n",
      "Epoch 18/100\n",
      "42/42 [==============================] - 2s 50ms/step - loss: 0.2112 - accuracy: 0.9510 - val_loss: 2.3693 - val_accuracy: 0.5211\n",
      "Epoch 19/100\n",
      "42/42 [==============================] - 2s 52ms/step - loss: 0.0399 - accuracy: 0.9947 - val_loss: 2.3343 - val_accuracy: 0.5301\n",
      "Epoch 20/100\n",
      "42/42 [==============================] - 2s 52ms/step - loss: 0.0265 - accuracy: 0.9970 - val_loss: 2.3103 - val_accuracy: 0.5301\n",
      "Epoch 21/100\n",
      "42/42 [==============================] - 2s 50ms/step - loss: 0.0189 - accuracy: 1.0000 - val_loss: 2.2675 - val_accuracy: 0.5392\n",
      "Epoch 22/100\n",
      "42/42 [==============================] - 1s 17ms/step - loss: 0.0142 - accuracy: 1.0000 - val_loss: 2.2933 - val_accuracy: 0.5271\n",
      "Epoch 23/100\n",
      "42/42 [==============================] - 1s 17ms/step - loss: 0.0128 - accuracy: 1.0000 - val_loss: 2.2774 - val_accuracy: 0.5241\n",
      "Epoch 24/100\n",
      "42/42 [==============================] - 1s 17ms/step - loss: 0.0113 - accuracy: 1.0000 - val_loss: 2.2773 - val_accuracy: 0.5301\n",
      "Epoch 25/100\n",
      "42/42 [==============================] - 1s 16ms/step - loss: 0.0096 - accuracy: 1.0000 - val_loss: 2.2915 - val_accuracy: 0.5301\n",
      "Epoch 26/100\n",
      "42/42 [==============================] - 1s 16ms/step - loss: 0.0093 - accuracy: 1.0000 - val_loss: 2.3352 - val_accuracy: 0.5211\n",
      "Epoch 27/100\n",
      "42/42 [==============================] - 1s 18ms/step - loss: 0.0083 - accuracy: 1.0000 - val_loss: 2.3242 - val_accuracy: 0.5271\n",
      "Epoch 28/100\n",
      "42/42 [==============================] - 1s 17ms/step - loss: 0.0076 - accuracy: 1.0000 - val_loss: 2.3424 - val_accuracy: 0.5331\n",
      "Epoch 29/100\n",
      "42/42 [==============================] - 1s 18ms/step - loss: 0.0071 - accuracy: 1.0000 - val_loss: 2.4101 - val_accuracy: 0.5211\n",
      "Epoch 30/100\n",
      "42/42 [==============================] - 1s 18ms/step - loss: 0.0067 - accuracy: 1.0000 - val_loss: 2.3661 - val_accuracy: 0.5271\n",
      "Epoch 31/100\n",
      "42/42 [==============================] - 1s 18ms/step - loss: 0.0060 - accuracy: 1.0000 - val_loss: 2.3848 - val_accuracy: 0.5422\n",
      "Epoch 32/100\n",
      "42/42 [==============================] - 1s 18ms/step - loss: 0.0054 - accuracy: 1.0000 - val_loss: 2.4165 - val_accuracy: 0.5361\n",
      "Epoch 33/100\n",
      "42/42 [==============================] - 1s 17ms/step - loss: 0.0051 - accuracy: 1.0000 - val_loss: 2.4576 - val_accuracy: 0.5301\n",
      "Epoch 34/100\n",
      "42/42 [==============================] - 1s 19ms/step - loss: 0.0045 - accuracy: 1.0000 - val_loss: 2.4362 - val_accuracy: 0.5301\n",
      "Epoch 35/100\n",
      "42/42 [==============================] - 1s 17ms/step - loss: 0.0041 - accuracy: 1.0000 - val_loss: 2.5018 - val_accuracy: 0.5271\n",
      "Epoch 36/100\n",
      "42/42 [==============================] - 1s 16ms/step - loss: 0.0037 - accuracy: 1.0000 - val_loss: 2.5313 - val_accuracy: 0.5331\n",
      "Epoch 37/100\n",
      "42/42 [==============================] - 1s 17ms/step - loss: 0.0032 - accuracy: 1.0000 - val_loss: 2.5721 - val_accuracy: 0.5331\n",
      "Epoch 38/100\n",
      "42/42 [==============================] - 1s 17ms/step - loss: 0.0028 - accuracy: 1.0000 - val_loss: 2.5916 - val_accuracy: 0.5301\n",
      "Epoch 39/100\n",
      "42/42 [==============================] - 1s 18ms/step - loss: 0.0024 - accuracy: 1.0000 - val_loss: 2.6498 - val_accuracy: 0.5301\n",
      "Epoch 40/100\n",
      "42/42 [==============================] - 1s 18ms/step - loss: 0.0022 - accuracy: 1.0000 - val_loss: 2.6370 - val_accuracy: 0.5301\n",
      "Epoch 41/100\n",
      "42/42 [==============================] - 1s 19ms/step - loss: 0.0020 - accuracy: 1.0000 - val_loss: 2.6972 - val_accuracy: 0.5271\n"
     ]
    }
   ],
   "source": [
    "earlystop = keras.callbacks.EarlyStopping(monitor='val_loss', \n",
    "                                          patience=20)\n",
    "checkpoint = keras.callbacks.ModelCheckpoint('Model/model_problem1_one.h5', \n",
    "                                             save_best_only=True)\n",
    "\n",
    "history = model_prob1_1.fit(X_train_rs, t_train, \n",
    "                          epochs=100, \n",
    "                          batch_size=32,\n",
    "                          validation_data=(X_val_rs, t_val),\n",
    "                          callbacks=[earlystop, checkpoint])"
   ]
  },
  {
   "cell_type": "code",
   "execution_count": 12,
   "id": "9d68df4c-157f-4e29-9121-f8237b29f256",
   "metadata": {
    "tags": []
   },
   "outputs": [
    {
     "name": "stdout",
     "output_type": "stream",
     "text": [
      "Performance of ANN:\n",
      "\n",
      "1. In training set: \n",
      "              precision    recall  f1-score   support\n",
      "\n",
      "         0.0       1.00      1.00      1.00       141\n",
      "         1.0       1.00      1.00      1.00       144\n",
      "         2.0       1.00      1.00      1.00       164\n",
      "         3.0       1.00      1.00      1.00       112\n",
      "         4.0       1.00      1.00      1.00       138\n",
      "         5.0       1.00      1.00      1.00       125\n",
      "         6.0       1.00      1.00      1.00       128\n",
      "         7.0       1.00      1.00      1.00       138\n",
      "         8.0       1.00      1.00      1.00       130\n",
      "         9.0       1.00      1.00      1.00       106\n",
      "\n",
      "    accuracy                           1.00      1326\n",
      "   macro avg       1.00      1.00      1.00      1326\n",
      "weighted avg       1.00      1.00      1.00      1326\n",
      "\n",
      "Accuracy: 1.0\n",
      "Confusion Matrix\n",
      "[[141   0   0   0   0   0   0   0   0   0]\n",
      " [  0 144   0   0   0   0   0   0   0   0]\n",
      " [  0   0 164   0   0   0   0   0   0   0]\n",
      " [  0   0   0 112   0   0   0   0   0   0]\n",
      " [  0   0   0   0 138   0   0   0   0   0]\n",
      " [  0   0   0   0   0 125   0   0   0   0]\n",
      " [  0   0   0   0   0   0 128   0   0   0]\n",
      " [  0   0   0   0   0   0   0 138   0   0]\n",
      " [  0   0   0   0   0   0   0   0 130   0]\n",
      " [  0   0   0   0   0   0   0   0   0 106]]\n",
      "\n",
      " ===================================================== \n",
      "\n",
      "2. In validation set: \n",
      "              precision    recall  f1-score   support\n",
      "\n",
      "         0.0       0.51      0.50      0.51        36\n",
      "         1.0       0.68      0.75      0.71        36\n",
      "         2.0       0.32      0.39      0.35        41\n",
      "         3.0       0.60      0.64      0.62        28\n",
      "         4.0       0.67      0.63      0.65        35\n",
      "         5.0       0.66      0.68      0.67        31\n",
      "         6.0       0.57      0.41      0.47        32\n",
      "         7.0       0.64      0.68      0.66        34\n",
      "         8.0       0.41      0.47      0.43        32\n",
      "         9.0       0.38      0.22      0.28        27\n",
      "\n",
      "    accuracy                           0.54       332\n",
      "   macro avg       0.54      0.54      0.53       332\n",
      "weighted avg       0.54      0.54      0.54       332\n",
      "\n",
      "Accuracy: 0.5391566265060241\n",
      "Confusion Matrix\n",
      "[[18  2  3  0  3  0  4  2  1  3]\n",
      " [ 0 27  4  0  3  0  0  1  1  0]\n",
      " [ 2  4 16  5  3  1  2  1  4  3]\n",
      " [ 0  0  3 18  0  4  0  3  0  0]\n",
      " [ 0  4  5  0 22  1  0  0  2  1]\n",
      " [ 0  0  2  5  0 21  0  2  1  0]\n",
      " [ 4  2  4  0  0  3 13  1  4  1]\n",
      " [ 3  0  3  1  0  2  1 23  1  0]\n",
      " [ 3  1  5  0  0  0  3  3 15  2]\n",
      " [ 5  0  5  1  2  0  0  0  8  6]]\n"
     ]
    },
    {
     "data": {
      "image/png": "[encoded data removed]",
      "text/plain": [
       "<Figure size 576x360 with 1 Axes>"
      ]
     },
     "metadata": {
      "needs_background": "light"
     },
     "output_type": "display_data"
    },
    {
     "data": {
      "image/png": "[encoded data removed]",
      "text/plain": [
       "<Figure size 576x360 with 1 Axes>"
      ]
     },
     "metadata": {
      "needs_background": "light"
     },
     "output_type": "display_data"
    }
   ],
   "source": [
    "## Performance result\n",
    "model = keras.models.load_model('Model/model_problem1_one.h5')\n",
    "Evaluate_performance(model=model, history=history, Name='ANN')"
   ]
  },
  {
   "cell_type": "code",
   "execution_count": 22,
   "id": "021caead-bf57-44b3-a360-c0241e810082",
   "metadata": {},
   "outputs": [],
   "source": [
    "# Model 2: With convolution layers\n",
    "model_prob1_2 = keras.models.Sequential([\n",
    "    keras.layers.Conv2D(64, 10, activation='selu', padding='same', input_shape=[300,300,3], kernel_initializer='lecun_normal'), \n",
    "    keras.layers.MaxPooling2D(2), \n",
    "    keras.layers.Conv2D(128, 5, activation='selu', padding='same', kernel_initializer='lecun_normal'),\n",
    "    keras.layers.MaxPooling2D(2),\n",
    "    keras.layers.Conv2D(256, 3, activation='selu', padding='same', kernel_initializer='lecun_normal'),\n",
    "    keras.layers.MaxPooling2D(2),\n",
    "    keras.layers.Flatten(),\n",
    "    keras.layers.Dense(300, kernel_initializer='he_normal'),\n",
    "    keras.layers.LeakyReLU(alpha=0.2),\n",
    "    keras.layers.Dropout(0.2), \n",
    "    keras.layers.Dense(100, kernel_initializer='he_normal'),\n",
    "    keras.layers.LeakyReLU(alpha=0.2),\n",
    "    keras.layers.Dropout(0.2), \n",
    "    keras.layers.Dense(10, activation='softmax')\n",
    "    ])"
   ]
  },
  {
   "cell_type": "code",
   "execution_count": 23,
   "id": "b7e90ce1-c391-49f9-8ff5-a8c4a8a1261e",
   "metadata": {},
   "outputs": [
    {
     "name": "stdout",
     "output_type": "stream",
     "text": [
      "Model: \"sequential_3\"\n",
      "_________________________________________________________________\n",
      " Layer (type)                Output Shape              Param #   \n",
      "=================================================================\n",
      " conv2d_6 (Conv2D)           (None, 300, 300, 64)      19264     \n",
      "                                                                 \n",
      " max_pooling2d_6 (MaxPooling  (None, 150, 150, 64)     0         \n",
      " 2D)                                                             \n",
      "                                                                 \n",
      " conv2d_7 (Conv2D)           (None, 150, 150, 128)     204928    \n",
      "                                                                 \n",
      " max_pooling2d_7 (MaxPooling  (None, 75, 75, 128)      0         \n",
      " 2D)                                                             \n",
      "                                                                 \n",
      " conv2d_8 (Conv2D)           (None, 75, 75, 256)       295168    \n",
      "                                                                 \n",
      " max_pooling2d_8 (MaxPooling  (None, 37, 37, 256)      0         \n",
      " 2D)                                                             \n",
      "                                                                 \n",
      " flatten_3 (Flatten)         (None, 350464)            0         \n",
      "                                                                 \n",
      " dense_9 (Dense)             (None, 300)               105139500 \n",
      "                                                                 \n",
      " leaky_re_lu_6 (LeakyReLU)   (None, 300)               0         \n",
      "                                                                 \n",
      " dropout_4 (Dropout)         (None, 300)               0         \n",
      "                                                                 \n",
      " dense_10 (Dense)            (None, 100)               30100     \n",
      "                                                                 \n",
      " leaky_re_lu_7 (LeakyReLU)   (None, 100)               0         \n",
      "                                                                 \n",
      " dropout_5 (Dropout)         (None, 100)               0         \n",
      "                                                                 \n",
      " dense_11 (Dense)            (None, 10)                1010      \n",
      "                                                                 \n",
      "=================================================================\n",
      "Total params: 105,689,970\n",
      "Trainable params: 105,689,970\n",
      "Non-trainable params: 0\n",
      "_________________________________________________________________\n"
     ]
    }
   ],
   "source": [
    "model_prob1_2.summary()"
   ]
  },
  {
   "cell_type": "code",
   "execution_count": 24,
   "id": "2a93bc39-3a40-4f5e-a34c-0534fb53dd3b",
   "metadata": {},
   "outputs": [],
   "source": [
    "model_prob1_2.compile(optimizer=keras.optimizers.Nadam(),\n",
    "                    loss=keras.losses.SparseCategoricalCrossentropy(),\n",
    "                    metrics=['accuracy'])"
   ]
  },
  {
   "cell_type": "code",
   "execution_count": 25,
   "id": "7cd3490c-5a1a-4f06-9728-0c625fc1a6ca",
   "metadata": {
    "tags": []
   },
   "outputs": [
    {
     "name": "stdout",
     "output_type": "stream",
     "text": [
      "Epoch 1/100\n",
      "42/42 [==============================] - 5s 110ms/step - loss: 122.3389 - accuracy: 0.2474 - val_loss: 9.7673 - val_accuracy: 0.3012\n",
      "Epoch 2/100\n",
      "42/42 [==============================] - 5s 109ms/step - loss: 4.6592 - accuracy: 0.4789 - val_loss: 2.4258 - val_accuracy: 0.5422\n",
      "Epoch 3/100\n",
      "42/42 [==============================] - 3s 60ms/step - loss: 1.7899 - accuracy: 0.6252 - val_loss: 4.2336 - val_accuracy: 0.3524\n",
      "Epoch 4/100\n",
      "42/42 [==============================] - 5s 109ms/step - loss: 1.4020 - accuracy: 0.6983 - val_loss: 2.2027 - val_accuracy: 0.5211\n",
      "Epoch 5/100\n",
      "42/42 [==============================] - 4s 108ms/step - loss: 0.5769 - accuracy: 0.8258 - val_loss: 1.9680 - val_accuracy: 0.5723\n",
      "Epoch 6/100\n",
      "42/42 [==============================] - 4s 108ms/step - loss: 1.4059 - accuracy: 0.8100 - val_loss: 1.9198 - val_accuracy: 0.5783\n",
      "Epoch 7/100\n",
      "42/42 [==============================] - 2s 59ms/step - loss: 0.9238 - accuracy: 0.8258 - val_loss: 3.8463 - val_accuracy: 0.5060\n",
      "Epoch 8/100\n",
      "42/42 [==============================] - 2s 59ms/step - loss: 0.3233 - accuracy: 0.9261 - val_loss: 2.6871 - val_accuracy: 0.5753\n",
      "Epoch 9/100\n",
      "42/42 [==============================] - 2s 58ms/step - loss: 0.3156 - accuracy: 0.9155 - val_loss: 2.4872 - val_accuracy: 0.5331\n",
      "Epoch 10/100\n",
      "42/42 [==============================] - 2s 59ms/step - loss: 0.0867 - accuracy: 0.9766 - val_loss: 2.4670 - val_accuracy: 0.5542\n",
      "Epoch 11/100\n",
      "42/42 [==============================] - 2s 59ms/step - loss: 0.1031 - accuracy: 0.9744 - val_loss: 2.6764 - val_accuracy: 0.5241\n",
      "Epoch 12/100\n",
      "42/42 [==============================] - 2s 58ms/step - loss: 0.1120 - accuracy: 0.9638 - val_loss: 2.6137 - val_accuracy: 0.5602\n",
      "Epoch 13/100\n",
      "42/42 [==============================] - 2s 58ms/step - loss: 0.0833 - accuracy: 0.9751 - val_loss: 2.5957 - val_accuracy: 0.5241\n",
      "Epoch 14/100\n",
      "42/42 [==============================] - 2s 59ms/step - loss: 0.0841 - accuracy: 0.9811 - val_loss: 3.9576 - val_accuracy: 0.5241\n",
      "Epoch 15/100\n",
      "42/42 [==============================] - 2s 59ms/step - loss: 0.1725 - accuracy: 0.9615 - val_loss: 3.6195 - val_accuracy: 0.5060\n",
      "Epoch 16/100\n",
      "42/42 [==============================] - 2s 59ms/step - loss: 0.2085 - accuracy: 0.9668 - val_loss: 4.2052 - val_accuracy: 0.5090\n"
     ]
    }
   ],
   "source": [
    "earlystop = keras.callbacks.EarlyStopping(monitor='val_loss', \n",
    "                                          patience=10)\n",
    "checkpoint = keras.callbacks.ModelCheckpoint('Model/model_problem1_two.h5', \n",
    "                                             save_best_only=True)\n",
    "\n",
    "history = model_prob1_2.fit(X_train_rs, t_train, \n",
    "                          epochs=100, \n",
    "                          batch_size=32,\n",
    "                          validation_data=(X_val_rs, t_val),\n",
    "                          callbacks=[earlystop, checkpoint])"
   ]
  },
  {
   "cell_type": "code",
   "execution_count": 26,
   "id": "8c78c4d1-f57e-4251-88d1-4d95d4b0c694",
   "metadata": {
    "tags": []
   },
   "outputs": [
    {
     "name": "stdout",
     "output_type": "stream",
     "text": [
      "Performance of CNN:\n",
      "\n",
      "1. In training set: \n",
      "              precision    recall  f1-score   support\n",
      "\n",
      "         0.0       0.97      0.98      0.97       141\n",
      "         1.0       0.99      1.00      1.00       144\n",
      "         2.0       1.00      0.88      0.94       164\n",
      "         3.0       0.99      0.99      0.99       112\n",
      "         4.0       0.95      0.96      0.96       138\n",
      "         5.0       0.98      1.00      0.99       125\n",
      "         6.0       1.00      0.95      0.97       128\n",
      "         7.0       1.00      0.97      0.99       138\n",
      "         8.0       0.95      1.00      0.97       130\n",
      "         9.0       0.87      1.00      0.93       106\n",
      "\n",
      "    accuracy                           0.97      1326\n",
      "   macro avg       0.97      0.97      0.97      1326\n",
      "weighted avg       0.97      0.97      0.97      1326\n",
      "\n",
      "Accuracy: 0.9698340874811463\n",
      "Confusion Matrix\n",
      "[[138   0   0   0   0   1   0   0   1   1]\n",
      " [  0 144   0   0   0   0   0   0   0   0]\n",
      " [  3   1 144   0   7   0   0   0   0   9]\n",
      " [  0   0   0 111   0   0   0   0   1   0]\n",
      " [  0   0   0   0 133   0   0   0   1   4]\n",
      " [  0   0   0   0   0 125   0   0   0   0]\n",
      " [  1   0   0   0   0   2 121   0   2   2]\n",
      " [  1   0   0   1   0   0   0 134   2   0]\n",
      " [  0   0   0   0   0   0   0   0 130   0]\n",
      " [  0   0   0   0   0   0   0   0   0 106]]\n",
      "\n",
      " ===================================================== \n",
      "\n",
      "2. In validation set: \n",
      "              precision    recall  f1-score   support\n",
      "\n",
      "         0.0       0.61      0.47      0.53        36\n",
      "         1.0       0.64      0.75      0.69        36\n",
      "         2.0       0.64      0.22      0.33        41\n",
      "         3.0       0.63      0.68      0.66        28\n",
      "         4.0       0.63      0.54      0.58        35\n",
      "         5.0       0.61      0.81      0.69        31\n",
      "         6.0       0.79      0.34      0.48        32\n",
      "         7.0       0.82      0.53      0.64        34\n",
      "         8.0       0.55      0.81      0.66        32\n",
      "         9.0       0.33      0.78      0.46        27\n",
      "\n",
      "    accuracy                           0.58       332\n",
      "   macro avg       0.63      0.59      0.57       332\n",
      "weighted avg       0.63      0.58      0.57       332\n",
      "\n",
      "Accuracy: 0.5783132530120482\n",
      "Confusion Matrix\n",
      "[[17  2  0  0  2  1  2  0  1 11]\n",
      " [ 1 27  0  0  2  1  0  0  2  3]\n",
      " [ 1  6  9  1  5  4  0  2  2 11]\n",
      " [ 0  1  0 19  1  6  0  0  1  0]\n",
      " [ 1  6  1  1 19  1  0  0  2  4]\n",
      " [ 0  0  1  2  0 25  0  1  0  2]\n",
      " [ 6  0  1  0  1  3 11  0  5  5]\n",
      " [ 1  0  2  5  0  0  0 18  4  4]\n",
      " [ 0  0  0  2  0  0  0  1 26  3]\n",
      " [ 1  0  0  0  0  0  1  0  4 21]]\n"
     ]
    },
    {
     "data": {
      "image/png": "[encoded data removed]",
      "text/plain": [
       "<Figure size 576x360 with 1 Axes>"
      ]
     },
     "metadata": {
      "needs_background": "light"
     },
     "output_type": "display_data"
    },
    {
     "data": {
      "image/png": "[encoded data removed]",
      "text/plain": [
       "<Figure size 576x360 with 1 Axes>"
      ]
     },
     "metadata": {
      "needs_background": "light"
     },
     "output_type": "display_data"
    }
   ],
   "source": [
    "## Performance result\n",
    "model = keras.models.load_model('Model/model_problem1_two.h5')\n",
    "Evaluate_performance(model=model, history=history, Name='CNN')"
   ]
  },
  {
   "cell_type": "code",
   "execution_count": 26,
   "id": "005c7bdd-1802-42f2-a293-688093e98a96",
   "metadata": {},
   "outputs": [],
   "source": [
    "# Model 3: With transfer learning\n",
    "base_model = keras.applications.Xception(\n",
    "    weights='imagenet', \n",
    "    input_shape=(150, 150, 3),\n",
    "    include_top=False)\n",
    "\n",
    "base_model.trainable = False\n",
    "\n",
    "IMG_SIZE = 150\n",
    "\n",
    "inputs = keras.Input(shape=(300, 300, 3))\n",
    "inputs_resized = keras.layers.Resizing(IMG_SIZE, IMG_SIZE)(inputs) \n",
    "x = base_model(inputs_resized, training=False)\n",
    "x_pooling = keras.layers.GlobalAveragePooling2D()(x)\n",
    "outputs = keras.layers.Dense(10, activation='softmax')(x_pooling)\n",
    "model_prob1_3 = keras.Model(inputs, outputs)"
   ]
  },
  {
   "cell_type": "code",
   "execution_count": 27,
   "id": "970bf820-991c-4cea-8c58-4aceab0b28fb",
   "metadata": {
    "collapsed": true,
    "jupyter": {
     "outputs_hidden": true
    },
    "tags": []
   },
   "outputs": [
    {
     "name": "stdout",
     "output_type": "stream",
     "text": [
      "Model: \"model_2\"\n",
      "_________________________________________________________________\n",
      " Layer (type)                Output Shape              Param #   \n",
      "=================================================================\n",
      " input_6 (InputLayer)        [(None, 300, 300, 3)]     0         \n",
      "                                                                 \n",
      " resizing_2 (Resizing)       (None, 150, 150, 3)       0         \n",
      "                                                                 \n",
      " xception (Functional)       (None, 5, 5, 2048)        20861480  \n",
      "                                                                 \n",
      " global_average_pooling2d_2   (None, 2048)             0         \n",
      " (GlobalAveragePooling2D)                                        \n",
      "                                                                 \n",
      " dense_9 (Dense)             (None, 10)                20490     \n",
      "                                                                 \n",
      "=================================================================\n",
      "Total params: 20,881,970\n",
      "Trainable params: 20,490\n",
      "Non-trainable params: 20,861,480\n",
      "_________________________________________________________________\n"
     ]
    }
   ],
   "source": [
    "model_prob1_3.summary()"
   ]
  },
  {
   "cell_type": "code",
   "execution_count": 28,
   "id": "ba1bbe5f-ae45-4f8d-95df-9b659091bb80",
   "metadata": {},
   "outputs": [],
   "source": [
    "model_prob1_3.compile(optimizer=keras.optimizers.Nadam(learning_rate=0.001),\n",
    "                      loss=keras.losses.SparseCategoricalCrossentropy(),\n",
    "                      metrics=['accuracy'])"
   ]
  },
  {
   "cell_type": "code",
   "execution_count": 29,
   "id": "4ef1f9ab-6650-49e5-94e8-96691eec47f5",
   "metadata": {
    "collapsed": true,
    "jupyter": {
     "outputs_hidden": true
    },
    "tags": []
   },
   "outputs": [
    {
     "name": "stdout",
     "output_type": "stream",
     "text": [
      "Epoch 1/100\n",
      "42/42 [==============================] - 3s 38ms/step - loss: 1.5644 - accuracy: 0.5332 - val_loss: 1.0672 - val_accuracy: 0.6988\n",
      "Epoch 2/100\n",
      "42/42 [==============================] - 1s 26ms/step - loss: 0.8523 - accuracy: 0.7919 - val_loss: 0.8153 - val_accuracy: 0.7229\n",
      "Epoch 3/100\n",
      "42/42 [==============================] - 1s 27ms/step - loss: 0.6505 - accuracy: 0.8318 - val_loss: 0.7074 - val_accuracy: 0.7620\n",
      "Epoch 4/100\n",
      "42/42 [==============================] - 1s 30ms/step - loss: 0.5395 - accuracy: 0.8718 - val_loss: 0.6285 - val_accuracy: 0.8133\n",
      "Epoch 5/100\n",
      "42/42 [==============================] - 1s 32ms/step - loss: 0.4689 - accuracy: 0.8922 - val_loss: 0.5854 - val_accuracy: 0.8012\n",
      "Epoch 6/100\n",
      "42/42 [==============================] - 1s 27ms/step - loss: 0.4123 - accuracy: 0.9080 - val_loss: 0.5474 - val_accuracy: 0.8193\n",
      "Epoch 7/100\n",
      "42/42 [==============================] - 1s 28ms/step - loss: 0.3669 - accuracy: 0.9201 - val_loss: 0.5238 - val_accuracy: 0.8253\n",
      "Epoch 8/100\n",
      "42/42 [==============================] - 1s 27ms/step - loss: 0.3324 - accuracy: 0.9321 - val_loss: 0.5012 - val_accuracy: 0.8283\n",
      "Epoch 9/100\n",
      "42/42 [==============================] - 1s 27ms/step - loss: 0.3012 - accuracy: 0.9359 - val_loss: 0.4826 - val_accuracy: 0.8373\n",
      "Epoch 10/100\n",
      "42/42 [==============================] - 1s 27ms/step - loss: 0.2765 - accuracy: 0.9502 - val_loss: 0.4586 - val_accuracy: 0.8524\n",
      "Epoch 11/100\n",
      "42/42 [==============================] - 1s 27ms/step - loss: 0.2531 - accuracy: 0.9548 - val_loss: 0.4505 - val_accuracy: 0.8645\n",
      "Epoch 12/100\n",
      "42/42 [==============================] - 1s 28ms/step - loss: 0.2341 - accuracy: 0.9600 - val_loss: 0.4379 - val_accuracy: 0.8584\n",
      "Epoch 13/100\n",
      "42/42 [==============================] - 1s 27ms/step - loss: 0.2158 - accuracy: 0.9653 - val_loss: 0.4319 - val_accuracy: 0.8675\n",
      "Epoch 14/100\n",
      "42/42 [==============================] - 1s 27ms/step - loss: 0.2010 - accuracy: 0.9676 - val_loss: 0.4258 - val_accuracy: 0.8494\n",
      "Epoch 15/100\n",
      "42/42 [==============================] - 1s 28ms/step - loss: 0.1884 - accuracy: 0.9713 - val_loss: 0.4225 - val_accuracy: 0.8675\n",
      "Epoch 16/100\n",
      "42/42 [==============================] - 1s 27ms/step - loss: 0.1769 - accuracy: 0.9736 - val_loss: 0.4094 - val_accuracy: 0.8645\n",
      "Epoch 17/100\n",
      "42/42 [==============================] - 1s 27ms/step - loss: 0.1665 - accuracy: 0.9751 - val_loss: 0.3958 - val_accuracy: 0.8765\n",
      "Epoch 18/100\n",
      "42/42 [==============================] - 1s 21ms/step - loss: 0.1565 - accuracy: 0.9789 - val_loss: 0.3973 - val_accuracy: 0.8886\n",
      "Epoch 19/100\n",
      "42/42 [==============================] - 1s 27ms/step - loss: 0.1478 - accuracy: 0.9789 - val_loss: 0.3936 - val_accuracy: 0.8825\n",
      "Epoch 20/100\n",
      "42/42 [==============================] - 1s 27ms/step - loss: 0.1392 - accuracy: 0.9804 - val_loss: 0.3860 - val_accuracy: 0.8765\n",
      "Epoch 21/100\n",
      "42/42 [==============================] - 1s 27ms/step - loss: 0.1325 - accuracy: 0.9834 - val_loss: 0.3770 - val_accuracy: 0.8735\n",
      "Epoch 22/100\n",
      "42/42 [==============================] - 1s 27ms/step - loss: 0.1245 - accuracy: 0.9827 - val_loss: 0.3758 - val_accuracy: 0.8886\n",
      "Epoch 23/100\n",
      "42/42 [==============================] - 1s 21ms/step - loss: 0.1181 - accuracy: 0.9879 - val_loss: 0.3825 - val_accuracy: 0.8705\n",
      "Epoch 24/100\n",
      "42/42 [==============================] - 1s 28ms/step - loss: 0.1128 - accuracy: 0.9857 - val_loss: 0.3709 - val_accuracy: 0.8825\n",
      "Epoch 25/100\n",
      "42/42 [==============================] - 1s 27ms/step - loss: 0.1071 - accuracy: 0.9857 - val_loss: 0.3676 - val_accuracy: 0.8825\n",
      "Epoch 26/100\n",
      "42/42 [==============================] - 1s 27ms/step - loss: 0.1019 - accuracy: 0.9887 - val_loss: 0.3610 - val_accuracy: 0.8886\n",
      "Epoch 27/100\n",
      "42/42 [==============================] - 1s 21ms/step - loss: 0.0967 - accuracy: 0.9887 - val_loss: 0.3611 - val_accuracy: 0.8855\n",
      "Epoch 28/100\n",
      "42/42 [==============================] - 1s 27ms/step - loss: 0.0928 - accuracy: 0.9902 - val_loss: 0.3593 - val_accuracy: 0.8855\n",
      "Epoch 29/100\n",
      "42/42 [==============================] - 1s 28ms/step - loss: 0.0892 - accuracy: 0.9894 - val_loss: 0.3515 - val_accuracy: 0.8916\n",
      "Epoch 30/100\n",
      "42/42 [==============================] - 1s 21ms/step - loss: 0.0847 - accuracy: 0.9925 - val_loss: 0.3555 - val_accuracy: 0.8765\n",
      "Epoch 31/100\n",
      "42/42 [==============================] - 1s 29ms/step - loss: 0.0815 - accuracy: 0.9932 - val_loss: 0.3483 - val_accuracy: 0.8855\n",
      "Epoch 32/100\n",
      "42/42 [==============================] - 1s 29ms/step - loss: 0.0776 - accuracy: 0.9940 - val_loss: 0.3458 - val_accuracy: 0.8855\n",
      "Epoch 33/100\n",
      "42/42 [==============================] - 1s 22ms/step - loss: 0.0746 - accuracy: 0.9955 - val_loss: 0.3480 - val_accuracy: 0.8886\n",
      "Epoch 34/100\n",
      "42/42 [==============================] - 1s 28ms/step - loss: 0.0715 - accuracy: 0.9955 - val_loss: 0.3447 - val_accuracy: 0.8886\n",
      "Epoch 35/100\n",
      "42/42 [==============================] - 1s 22ms/step - loss: 0.0686 - accuracy: 0.9955 - val_loss: 0.3448 - val_accuracy: 0.8886\n",
      "Epoch 36/100\n",
      "42/42 [==============================] - 1s 21ms/step - loss: 0.0659 - accuracy: 0.9970 - val_loss: 0.3462 - val_accuracy: 0.8886\n",
      "Epoch 37/100\n",
      "42/42 [==============================] - 1s 27ms/step - loss: 0.0633 - accuracy: 0.9962 - val_loss: 0.3429 - val_accuracy: 0.8855\n",
      "Epoch 38/100\n",
      "42/42 [==============================] - 1s 21ms/step - loss: 0.0612 - accuracy: 0.9977 - val_loss: 0.3434 - val_accuracy: 0.8795\n",
      "Epoch 39/100\n",
      "42/42 [==============================] - 1s 22ms/step - loss: 0.0589 - accuracy: 0.9970 - val_loss: 0.3431 - val_accuracy: 0.8795\n",
      "Epoch 40/100\n",
      "42/42 [==============================] - 1s 29ms/step - loss: 0.0567 - accuracy: 0.9970 - val_loss: 0.3402 - val_accuracy: 0.8825\n",
      "Epoch 41/100\n",
      "42/42 [==============================] - 1s 29ms/step - loss: 0.0543 - accuracy: 0.9985 - val_loss: 0.3384 - val_accuracy: 0.8886\n",
      "Epoch 42/100\n",
      "42/42 [==============================] - 1s 21ms/step - loss: 0.0524 - accuracy: 0.9985 - val_loss: 0.3415 - val_accuracy: 0.8886\n",
      "Epoch 43/100\n",
      "42/42 [==============================] - 1s 28ms/step - loss: 0.0507 - accuracy: 0.9992 - val_loss: 0.3383 - val_accuracy: 0.8855\n",
      "Epoch 44/100\n",
      "42/42 [==============================] - 1s 28ms/step - loss: 0.0490 - accuracy: 0.9985 - val_loss: 0.3376 - val_accuracy: 0.8825\n",
      "Epoch 45/100\n",
      "42/42 [==============================] - 1s 27ms/step - loss: 0.0473 - accuracy: 0.9992 - val_loss: 0.3352 - val_accuracy: 0.8855\n",
      "Epoch 46/100\n",
      "42/42 [==============================] - 1s 21ms/step - loss: 0.0456 - accuracy: 0.9992 - val_loss: 0.3360 - val_accuracy: 0.8825\n",
      "Epoch 47/100\n",
      "42/42 [==============================] - 1s 21ms/step - loss: 0.0441 - accuracy: 0.9992 - val_loss: 0.3377 - val_accuracy: 0.8916\n",
      "Epoch 48/100\n",
      "42/42 [==============================] - 1s 32ms/step - loss: 0.0428 - accuracy: 0.9992 - val_loss: 0.3347 - val_accuracy: 0.8886\n",
      "Epoch 49/100\n",
      "42/42 [==============================] - 1s 27ms/step - loss: 0.0414 - accuracy: 0.9992 - val_loss: 0.3341 - val_accuracy: 0.8825\n",
      "Epoch 50/100\n",
      "42/42 [==============================] - 1s 21ms/step - loss: 0.0400 - accuracy: 0.9992 - val_loss: 0.3345 - val_accuracy: 0.8916\n",
      "Epoch 51/100\n",
      "42/42 [==============================] - 1s 22ms/step - loss: 0.0388 - accuracy: 0.9992 - val_loss: 0.3347 - val_accuracy: 0.8886\n",
      "Epoch 52/100\n",
      "42/42 [==============================] - 1s 28ms/step - loss: 0.0373 - accuracy: 0.9992 - val_loss: 0.3323 - val_accuracy: 0.8886\n",
      "Epoch 53/100\n",
      "42/42 [==============================] - 1s 20ms/step - loss: 0.0362 - accuracy: 0.9992 - val_loss: 0.3336 - val_accuracy: 0.8886\n",
      "Epoch 54/100\n",
      "42/42 [==============================] - 1s 21ms/step - loss: 0.0352 - accuracy: 0.9992 - val_loss: 0.3356 - val_accuracy: 0.8855\n",
      "Epoch 55/100\n",
      "42/42 [==============================] - 1s 21ms/step - loss: 0.0341 - accuracy: 0.9992 - val_loss: 0.3332 - val_accuracy: 0.8886\n",
      "Epoch 56/100\n",
      "42/42 [==============================] - 1s 27ms/step - loss: 0.0331 - accuracy: 0.9992 - val_loss: 0.3317 - val_accuracy: 0.8916\n",
      "Epoch 57/100\n",
      "42/42 [==============================] - 1s 21ms/step - loss: 0.0321 - accuracy: 0.9992 - val_loss: 0.3341 - val_accuracy: 0.8916\n",
      "Epoch 58/100\n",
      "42/42 [==============================] - 1s 21ms/step - loss: 0.0311 - accuracy: 0.9992 - val_loss: 0.3347 - val_accuracy: 0.8916\n",
      "Epoch 59/100\n",
      "42/42 [==============================] - 1s 21ms/step - loss: 0.0301 - accuracy: 1.0000 - val_loss: 0.3364 - val_accuracy: 0.8916\n",
      "Epoch 60/100\n",
      "42/42 [==============================] - 1s 21ms/step - loss: 0.0295 - accuracy: 1.0000 - val_loss: 0.3325 - val_accuracy: 0.8855\n",
      "Epoch 61/100\n",
      "42/42 [==============================] - 1s 21ms/step - loss: 0.0285 - accuracy: 1.0000 - val_loss: 0.3342 - val_accuracy: 0.8916\n",
      "Epoch 62/100\n",
      "42/42 [==============================] - 1s 20ms/step - loss: 0.0277 - accuracy: 1.0000 - val_loss: 0.3360 - val_accuracy: 0.8916\n",
      "Epoch 63/100\n",
      "42/42 [==============================] - 1s 21ms/step - loss: 0.0271 - accuracy: 1.0000 - val_loss: 0.3327 - val_accuracy: 0.8886\n",
      "Epoch 64/100\n",
      "42/42 [==============================] - 1s 21ms/step - loss: 0.0261 - accuracy: 1.0000 - val_loss: 0.3347 - val_accuracy: 0.8886\n",
      "Epoch 65/100\n",
      "42/42 [==============================] - 1s 21ms/step - loss: 0.0255 - accuracy: 1.0000 - val_loss: 0.3345 - val_accuracy: 0.8886\n",
      "Epoch 66/100\n",
      "42/42 [==============================] - 1s 21ms/step - loss: 0.0247 - accuracy: 1.0000 - val_loss: 0.3348 - val_accuracy: 0.8916\n"
     ]
    }
   ],
   "source": [
    "earlystop = keras.callbacks.EarlyStopping(monitor='val_loss', \n",
    "                                          patience=10)\n",
    "checkpoint = keras.callbacks.ModelCheckpoint('Model/model_problem1_three.h5', \n",
    "                                             save_best_only=True)\n",
    "\n",
    "history = model_prob1_3.fit(X_train_rs, t_train, \n",
    "                            epochs=100, \n",
    "                            batch_size=32,\n",
    "                            validation_data=(X_val_rs, t_val),\n",
    "                            callbacks=[earlystop, checkpoint])"
   ]
  },
  {
   "cell_type": "code",
   "execution_count": 18,
   "id": "f17570f7-06c1-478e-bcd5-3b6bda372090",
   "metadata": {
    "collapsed": true,
    "jupyter": {
     "outputs_hidden": true
    },
    "tags": []
   },
   "outputs": [
    {
     "name": "stdout",
     "output_type": "stream",
     "text": [
      "Performance of Transfer learning:\n",
      "\n",
      "1. In training set: \n",
      "              precision    recall  f1-score   support\n",
      "\n",
      "         0.0       1.00      1.00      1.00       141\n",
      "         1.0       1.00      1.00      1.00       144\n",
      "         2.0       1.00      1.00      1.00       164\n",
      "         3.0       1.00      1.00      1.00       112\n",
      "         4.0       1.00      1.00      1.00       138\n",
      "         5.0       1.00      1.00      1.00       125\n",
      "         6.0       1.00      1.00      1.00       128\n",
      "         7.0       1.00      1.00      1.00       138\n",
      "         8.0       1.00      1.00      1.00       130\n",
      "         9.0       1.00      1.00      1.00       106\n",
      "\n",
      "    accuracy                           1.00      1326\n",
      "   macro avg       1.00      1.00      1.00      1326\n",
      "weighted avg       1.00      1.00      1.00      1326\n",
      "\n",
      "Accuracy: 1.0\n",
      "Confusion Matrix\n",
      "[[141   0   0   0   0   0   0   0   0   0]\n",
      " [  0 144   0   0   0   0   0   0   0   0]\n",
      " [  0   0 164   0   0   0   0   0   0   0]\n",
      " [  0   0   0 112   0   0   0   0   0   0]\n",
      " [  0   0   0   0 138   0   0   0   0   0]\n",
      " [  0   0   0   0   0 125   0   0   0   0]\n",
      " [  0   0   0   0   0   0 128   0   0   0]\n",
      " [  0   0   0   0   0   0   0 138   0   0]\n",
      " [  0   0   0   0   0   0   0   0 130   0]\n",
      " [  0   0   0   0   0   0   0   0   0 106]]\n",
      "\n",
      " ===================================================== \n",
      "\n",
      "2. In validation set: \n",
      "              precision    recall  f1-score   support\n",
      "\n",
      "         0.0       0.78      0.81      0.79        36\n",
      "         1.0       0.89      0.94      0.92        36\n",
      "         2.0       0.84      0.78      0.81        41\n",
      "         3.0       0.96      0.93      0.95        28\n",
      "         4.0       0.94      0.91      0.93        35\n",
      "         5.0       0.97      0.97      0.97        31\n",
      "         6.0       0.84      0.84      0.84        32\n",
      "         7.0       0.82      0.94      0.88        34\n",
      "         8.0       0.94      0.91      0.92        32\n",
      "         9.0       0.88      0.81      0.85        27\n",
      "\n",
      "    accuracy                           0.88       332\n",
      "   macro avg       0.89      0.88      0.89       332\n",
      "weighted avg       0.88      0.88      0.88       332\n",
      "\n",
      "Accuracy: 0.8825301204819277\n",
      "Confusion Matrix\n",
      "[[29  1  0  0  0  1  2  0  0  3]\n",
      " [ 0 34  1  0  0  0  1  0  0  0]\n",
      " [ 1  2 32  0  1  0  1  4  0  0]\n",
      " [ 0  0  0 26  0  0  1  1  0  0]\n",
      " [ 0  1  2  0 32  0  0  0  0  0]\n",
      " [ 0  0  0  0  1 30  0  0  0  0]\n",
      " [ 2  0  1  1  0  0 27  1  0  0]\n",
      " [ 1  0  1  0  0  0  0 32  0  0]\n",
      " [ 2  0  0  0  0  0  0  1 29  0]\n",
      " [ 2  0  1  0  0  0  0  0  2 22]]\n"
     ]
    },
    {
     "data": {
      "image/png": "[encoded data removed]",
      "text/plain": [
       "<Figure size 576x360 with 1 Axes>"
      ]
     },
     "metadata": {
      "needs_background": "light"
     },
     "output_type": "display_data"
    },
    {
     "data": {
      "image/png": "[encoded data removed]",
      "text/plain": [
       "<Figure size 576x360 with 1 Axes>"
      ]
     },
     "metadata": {
      "needs_background": "light"
     },
     "output_type": "display_data"
    }
   ],
   "source": [
    "## Performance result\n",
    "model = keras.models.load_model('Model/model_problem1_three.h5')\n",
    "Evaluate_performance(model=model, history=history, Name='Transfer learning')"
   ]
  },
  {
   "cell_type": "markdown",
   "id": "49a97fd5-f52b-41fb-bd8c-b8de9212ec15",
   "metadata": {},
   "source": [
    "## Problem 3"
   ]
  },
  {
   "cell_type": "code",
   "execution_count": 2,
   "id": "fda957a8-4cd7-4b82-887c-69db4bd635b1",
   "metadata": {},
   "outputs": [
    {
     "data": {
      "text/plain": [
       "((559, 770640), (559, 4))"
      ]
     },
     "execution_count": 2,
     "metadata": {},
     "output_type": "execute_result"
    }
   ],
   "source": [
    "bbox = pd.read_csv('car_detection_dataset/train_bounding_boxes.csv')\n",
    "\n",
    "N = len(bbox)\n",
    "\n",
    "# Create a numpy array with all images\n",
    "for i in range(N): \n",
    "    filename='car_detection_dataset/training_images/'+bbox['image'][i]\n",
    "    image = np.array(Image.open(filename))\n",
    "    image_col = image.ravel()[:,np.newaxis]\n",
    "    \n",
    "    if i==0:\n",
    "        X_train_full = image_col\n",
    "    else:\n",
    "        X_train_full = np.hstack((X_train_full, image_col))\n",
    "\n",
    "# Training feature matrices\n",
    "X_train_full = X_train_full.T\n",
    "\n",
    "# Training labels\n",
    "t_train_full = bbox.drop('image', axis=1).round().to_numpy().astype(int)\n",
    "\n",
    "X_train_full.shape, t_train_full.shape"
   ]
  },
  {
   "cell_type": "code",
   "execution_count": 3,
   "id": "6f786bb6-cd46-4566-969b-5b75c6f19767",
   "metadata": {},
   "outputs": [
    {
     "data": {
      "text/plain": [
       "(380, 676, 3)"
      ]
     },
     "execution_count": 3,
     "metadata": {},
     "output_type": "execute_result"
    }
   ],
   "source": [
    "# size of each RGB image\n",
    "(Nx,Ny,Nz) = image.shape\n",
    "\n",
    "Nx, Ny, Nz"
   ]
  },
  {
   "cell_type": "code",
   "execution_count": 4,
   "id": "fe25c119-6980-4cee-b91e-b3e0ee48cca9",
   "metadata": {},
   "outputs": [
    {
     "data": {
      "text/plain": [
       "((509, 770640), (509, 4), (50, 770640), (50, 4))"
      ]
     },
     "execution_count": 4,
     "metadata": {},
     "output_type": "execute_result"
    }
   ],
   "source": [
    "# Scale and split the training data and the target\n",
    "X_train_scaled = X_train_full / 255.0\n",
    "t_train_scaled = np.vstack((t_train_full[:,0]/Ny, t_train_full[:,1]/Nx, t_train_full[:,2]/Ny, t_train_full[:,3]/Nx)).T\n",
    "\n",
    "X_val, X_train = X_train_scaled[:50], X_train_scaled[50:]\n",
    "t_val, t_train = t_train_scaled[:50], t_train_scaled[50:]\n",
    "\n",
    "X_train.shape, t_train.shape, X_val.shape, t_val.shape"
   ]
  },
  {
   "cell_type": "code",
   "execution_count": 15,
   "id": "00ccdb10-a7bc-44f1-815a-16a9faa65e73",
   "metadata": {},
   "outputs": [
    {
     "data": {
      "text/plain": [
       "(TensorShape([509, 380, 676, 3]), TensorShape([50, 380, 676, 3]))"
      ]
     },
     "execution_count": 15,
     "metadata": {},
     "output_type": "execute_result"
    }
   ],
   "source": [
    "# Reshape the data\n",
    "X_train_rs = tf.constant(X_train.reshape((X_train.shape[0],Nx,Ny,3)),\n",
    "                         dtype=tf.float16)\n",
    "X_val_rs = tf.constant(X_val.reshape((X_val.shape[0], Nx,Ny,3)), \n",
    "                       dtype=tf.float16)\n",
    "\n",
    "X_train_rs.shape, X_val_rs.shape"
   ]
  },
  {
   "cell_type": "code",
   "execution_count": 20,
   "id": "d28263aa-934e-44fe-9891-d4ee63625c41",
   "metadata": {
    "tags": []
   },
   "outputs": [],
   "source": [
    "# Build the model\n",
    "base_model = keras.applications.VGG16(\n",
    "    weights='imagenet', \n",
    "    input_tensor=keras.layers.Input(shape=(224, 224, 3)),\n",
    "    include_top=False)\n",
    "\n",
    "base_model.trainable = False\n",
    "\n",
    "inputs = keras.Input(shape=(Nx, Ny, Nz))\n",
    "inputs_resized = keras.layers.Resizing(224, 224)(inputs) \n",
    "x = base_model(inputs_resized, training=False)\n",
    "x_flatten = keras.layers.Flatten()(x)\n",
    "layer1 = keras.layers.Dense(128, activation=\"selu\", kernel_initializer='lecun_normal')(x_flatten)\n",
    "layer2 = keras.layers.Dense(64, activation=\"selu\", kernel_initializer='lecun_normal')(layer1)\n",
    "layer3 = keras.layers.Dense(32, activation=\"selu\", kernel_initializer='lecun_normal')(layer2)\n",
    "outputs = keras.layers.Dense(4, activation=\"sigmoid\")(layer3)\n",
    "model_prob2 = keras.Model(inputs, outputs)"
   ]
  },
  {
   "cell_type": "code",
   "execution_count": 21,
   "id": "16a354e1-866e-4666-84f5-222b6e477e1a",
   "metadata": {},
   "outputs": [
    {
     "name": "stdout",
     "output_type": "stream",
     "text": [
      "Model: \"model_4\"\n",
      "_________________________________________________________________\n",
      " Layer (type)                Output Shape              Param #   \n",
      "=================================================================\n",
      " input_10 (InputLayer)       [(None, 380, 676, 3)]     0         \n",
      "                                                                 \n",
      " resizing_4 (Resizing)       (None, 224, 224, 3)       0         \n",
      "                                                                 \n",
      " vgg16 (Functional)          (None, 7, 7, 512)         14714688  \n",
      "                                                                 \n",
      " flatten_4 (Flatten)         (None, 25088)             0         \n",
      "                                                                 \n",
      " dense_16 (Dense)            (None, 128)               3211392   \n",
      "                                                                 \n",
      " dense_17 (Dense)            (None, 64)                8256      \n",
      "                                                                 \n",
      " dense_18 (Dense)            (None, 32)                2080      \n",
      "                                                                 \n",
      " dense_19 (Dense)            (None, 4)                 132       \n",
      "                                                                 \n",
      "=================================================================\n",
      "Total params: 17,936,548\n",
      "Trainable params: 3,221,860\n",
      "Non-trainable params: 14,714,688\n",
      "_________________________________________________________________\n"
     ]
    }
   ],
   "source": [
    "model_prob2.summary()"
   ]
  },
  {
   "cell_type": "code",
   "execution_count": 22,
   "id": "f9d0958c-2f9a-4b8c-bfd1-1ca921743c53",
   "metadata": {},
   "outputs": [],
   "source": [
    "model_prob2.compile(optimizer=keras.optimizers.Adam(learning_rate=0.001),\n",
    "                      loss=keras.losses.MeanSquaredError())"
   ]
  },
  {
   "cell_type": "code",
   "execution_count": 23,
   "id": "c5354a33-8759-45ef-9542-9b70f0918352",
   "metadata": {},
   "outputs": [
    {
     "name": "stdout",
     "output_type": "stream",
     "text": [
      "Epoch 1/50\n",
      "51/51 [==============================] - 1s 17ms/step - loss: 0.2100 - val_loss: 0.2165\n",
      "Epoch 2/50\n",
      "51/51 [==============================] - 1s 15ms/step - loss: 0.2022 - val_loss: 0.1936\n",
      "Epoch 3/50\n",
      "51/51 [==============================] - 1s 14ms/step - loss: 0.1733 - val_loss: 0.1348\n",
      "Epoch 4/50\n",
      "51/51 [==============================] - 1s 14ms/step - loss: 0.1028 - val_loss: 0.0988\n",
      "Epoch 5/50\n",
      "51/51 [==============================] - 1s 15ms/step - loss: 0.0860 - val_loss: 0.0987\n",
      "Epoch 6/50\n",
      "51/51 [==============================] - 1s 14ms/step - loss: 0.0808 - val_loss: 0.0896\n",
      "Epoch 7/50\n",
      "51/51 [==============================] - 1s 11ms/step - loss: 0.0803 - val_loss: 0.0978\n",
      "Epoch 8/50\n",
      "51/51 [==============================] - 1s 11ms/step - loss: 0.0822 - val_loss: 0.0942\n",
      "Epoch 9/50\n",
      "51/51 [==============================] - 1s 14ms/step - loss: 0.0782 - val_loss: 0.0879\n",
      "Epoch 10/50\n",
      "51/51 [==============================] - 1s 14ms/step - loss: 0.0756 - val_loss: 0.0865\n",
      "Epoch 11/50\n",
      "51/51 [==============================] - 1s 11ms/step - loss: 0.0750 - val_loss: 0.0994\n",
      "Epoch 12/50\n",
      "51/51 [==============================] - 1s 14ms/step - loss: 0.0579 - val_loss: 0.0256\n",
      "Epoch 13/50\n",
      "51/51 [==============================] - 1s 11ms/step - loss: 0.0355 - val_loss: 0.0327\n",
      "Epoch 14/50\n",
      "51/51 [==============================] - 1s 11ms/step - loss: 0.0339 - val_loss: 0.0292\n",
      "Epoch 15/50\n",
      "51/51 [==============================] - 1s 15ms/step - loss: 0.0335 - val_loss: 0.0247\n",
      "Epoch 16/50\n",
      "51/51 [==============================] - 1s 15ms/step - loss: 0.0291 - val_loss: 0.0206\n",
      "Epoch 17/50\n",
      "51/51 [==============================] - 1s 15ms/step - loss: 0.0275 - val_loss: 0.0167\n",
      "Epoch 18/50\n",
      "51/51 [==============================] - 1s 11ms/step - loss: 0.0323 - val_loss: 0.0246\n",
      "Epoch 19/50\n",
      "51/51 [==============================] - 1s 11ms/step - loss: 0.0292 - val_loss: 0.0204\n",
      "Epoch 20/50\n",
      "51/51 [==============================] - 1s 11ms/step - loss: 0.0257 - val_loss: 0.0192\n",
      "Epoch 21/50\n",
      "51/51 [==============================] - 1s 11ms/step - loss: 0.0261 - val_loss: 0.0187\n",
      "Epoch 22/50\n",
      "51/51 [==============================] - 1s 11ms/step - loss: 0.0287 - val_loss: 0.0264\n",
      "Epoch 23/50\n",
      "51/51 [==============================] - 1s 14ms/step - loss: 0.0259 - val_loss: 0.0163\n",
      "Epoch 24/50\n",
      "51/51 [==============================] - 1s 14ms/step - loss: 0.0249 - val_loss: 0.0149\n",
      "Epoch 25/50\n",
      "51/51 [==============================] - 1s 12ms/step - loss: 0.0246 - val_loss: 0.0155\n",
      "Epoch 26/50\n",
      "51/51 [==============================] - 1s 11ms/step - loss: 0.0256 - val_loss: 0.0206\n",
      "Epoch 27/50\n",
      "51/51 [==============================] - 1s 11ms/step - loss: 0.0251 - val_loss: 0.0149\n",
      "Epoch 28/50\n",
      "51/51 [==============================] - 1s 11ms/step - loss: 0.0263 - val_loss: 0.0216\n",
      "Epoch 29/50\n",
      "51/51 [==============================] - 1s 14ms/step - loss: 0.0248 - val_loss: 0.0141\n",
      "Epoch 30/50\n",
      "51/51 [==============================] - 1s 12ms/step - loss: 0.0257 - val_loss: 0.0147\n",
      "Epoch 31/50\n",
      "51/51 [==============================] - 1s 11ms/step - loss: 0.0247 - val_loss: 0.0152\n",
      "Epoch 32/50\n",
      "51/51 [==============================] - 1s 11ms/step - loss: 0.0250 - val_loss: 0.0202\n",
      "Epoch 33/50\n",
      "51/51 [==============================] - 1s 11ms/step - loss: 0.0240 - val_loss: 0.0172\n",
      "Epoch 34/50\n",
      "51/51 [==============================] - 1s 11ms/step - loss: 0.0254 - val_loss: 0.0145\n",
      "Epoch 35/50\n",
      "51/51 [==============================] - 1s 12ms/step - loss: 0.0252 - val_loss: 0.0189\n",
      "Epoch 36/50\n",
      "51/51 [==============================] - 1s 12ms/step - loss: 0.0248 - val_loss: 0.0220\n",
      "Epoch 37/50\n",
      "51/51 [==============================] - 1s 11ms/step - loss: 0.0245 - val_loss: 0.0162\n",
      "Epoch 38/50\n",
      "51/51 [==============================] - 1s 12ms/step - loss: 0.0249 - val_loss: 0.0145\n",
      "Epoch 39/50\n",
      "51/51 [==============================] - 1s 12ms/step - loss: 0.0239 - val_loss: 0.0141\n"
     ]
    }
   ],
   "source": [
    "earlystop = keras.callbacks.EarlyStopping(monitor='val_loss', \n",
    "                                          patience=10)\n",
    "checkpoint = keras.callbacks.ModelCheckpoint('Model/model_problem2.h5', \n",
    "                                             save_best_only=True)\n",
    "\n",
    "history = model_prob2.fit(X_train_rs, t_train, \n",
    "                          epochs=50, \n",
    "                          batch_size=10,\n",
    "                          validation_data=(X_val_rs, t_val),\n",
    "                          callbacks=[earlystop, checkpoint])"
   ]
  },
  {
   "cell_type": "code",
   "execution_count": 24,
   "id": "57f4c335-8e94-445c-b05b-d0dcaa8e0e3b",
   "metadata": {},
   "outputs": [
    {
     "data": {
      "image/png": "[encoded data removed]",
      "text/plain": [
       "<Figure size 576x360 with 1 Axes>"
      ]
     },
     "metadata": {
      "needs_background": "light"
     },
     "output_type": "display_data"
    }
   ],
   "source": [
    "key_names = list(history.history.keys())\n",
    "colors = ['-r','--b']\n",
    "\n",
    "plt.figure(figsize=(8,5))\n",
    "for i in [0,1]:\n",
    "    plt.plot(history.history[key_names[i]], colors[i], label=key_names[i])\n",
    "plt.legend(fontsize=15,ncol=2)\n",
    "plt.title('Learning Curves with loss', size=15);"
   ]
  },
  {
   "cell_type": "code",
   "execution_count": null,
   "id": "667b3b83-20b1-4463-b854-150d7a39a50e",
   "metadata": {},
   "outputs": [],
   "source": []
  }
 ],
 "metadata": {
  "kernelspec": {
   "display_name": "Tensorflow-2.7.0",
   "language": "python",
   "name": "tensorflow-2.7.0"
  },
  "language_info": {
   "codemirror_mode": {
    "name": "ipython",
    "version": 3
   },
   "file_extension": ".py",
   "mimetype": "text/x-python",
   "name": "python",
   "nbconvert_exporter": "python",
   "pygments_lexer": "ipython3",
   "version": "3.9.12"
  }
 },
 "nbformat": 4,
 "nbformat_minor": 5
}
